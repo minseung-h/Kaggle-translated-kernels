{
 "cells": [
  {
   "cell_type": "markdown",
   "metadata": {},
   "source": [
    "<b> [캐글 필사/번역] </b> <br>\n",
    "Date : 2020/07/28 <br>\n",
    "Auther : Ashwini Swain <br>\n",
    "kaggle link : https://www.kaggle.com/ash316/eda-to-prediction-dietanic\n",
    "\n",
    "Kaggle 커널 한글화 프로젝트: <br>\n",
    "https://kaggle-kr.tistory.com/25?fbclid=IwAR3tcLF0ukqUr_wikwVqnfm1jhR4SSJHGxZydO767YEinnnoaWedDGNVONk\n",
    "\n",
    "Kaggle Korea 블로그 : <br>\n",
    "https://kaggle-kr.tistory.com/?fbclid=IwAR3wgGKC12tLtbC3bimR4XnwuT2KEtelM1yomcs887RR-LMTQk5uG_FuEWQ\n"
   ]
  },
  {
   "cell_type": "markdown",
   "metadata": {},
   "source": [
    "# EDA To Prediction (DieTanic)\n",
    "\n",
    "<b> Contents of the Notebook: </b><br><br>\n",
    "<b>Part1: Exploratory Data Analysis(EDA):</b><br>\n",
    "1)Analysis of the features.<br>\n",
    "2)Finding any relations or trends considering multiple features.\n",
    "\n",
    "<b>Part2: Feature Engineering and Data Cleaning:</b><br>\n",
    "1)Adding any few features.<br>\n",
    "2)Removing redundant features.<br>\n",
    "3)Converting features into suitable form for modeling.\n",
    "\n",
    "<b>Part3: Predictive Modeling</b><br>\n",
    "1)Running Basic Algorithms.<br>\n",
    "2)Cross Validation.<br>\n",
    "3)Ensembling.<br>\n",
    "4)Important Features Extraction.<br>\n",
    "\n"
   ]
  },
  {
   "cell_type": "markdown",
   "metadata": {},
   "source": [
    "## Part1: Exploratory Data Analysis(EDA)\n"
   ]
  },
  {
   "cell_type": "code",
   "execution_count": 1,
   "metadata": {},
   "outputs": [],
   "source": [
    "import numpy as np\n",
    "import pandas as pd\n",
    "import matplotlib.pyplot as plt\n",
    "import seaborn as sns\n",
    "plt.style.use('fivethirtyeight') #https://matplotlib.org/3.1.0/gallery/style_sheets/fivethirtyeight.html\n",
    "import warnings\n",
    "warnings.filterwarnings('ignore') #경고문 무시하기\n",
    "%matplotlib inline"
   ]
  },
  {
   "cell_type": "code",
   "execution_count": 2,
   "metadata": {},
   "outputs": [],
   "source": [
    "data=pd.read_csv('/Users/minseunghong/Documents/Study/Kaggle/Titanic/train.csv')\n",
    "# data=pd.read_csv('../input/train.csv')"
   ]
  },
  {
   "cell_type": "code",
   "execution_count": 3,
   "metadata": {},
   "outputs": [
    {
     "data": {
      "text/html": [
       "<div>\n",
       "<style scoped>\n",
       "    .dataframe tbody tr th:only-of-type {\n",
       "        vertical-align: middle;\n",
       "    }\n",
       "\n",
       "    .dataframe tbody tr th {\n",
       "        vertical-align: top;\n",
       "    }\n",
       "\n",
       "    .dataframe thead th {\n",
       "        text-align: right;\n",
       "    }\n",
       "</style>\n",
       "<table border=\"1\" class=\"dataframe\">\n",
       "  <thead>\n",
       "    <tr style=\"text-align: right;\">\n",
       "      <th></th>\n",
       "      <th>PassengerId</th>\n",
       "      <th>Survived</th>\n",
       "      <th>Pclass</th>\n",
       "      <th>Name</th>\n",
       "      <th>Sex</th>\n",
       "      <th>Age</th>\n",
       "      <th>SibSp</th>\n",
       "      <th>Parch</th>\n",
       "      <th>Ticket</th>\n",
       "      <th>Fare</th>\n",
       "      <th>Cabin</th>\n",
       "      <th>Embarked</th>\n",
       "    </tr>\n",
       "  </thead>\n",
       "  <tbody>\n",
       "    <tr>\n",
       "      <th>0</th>\n",
       "      <td>1</td>\n",
       "      <td>0</td>\n",
       "      <td>3</td>\n",
       "      <td>Braund, Mr. Owen Harris</td>\n",
       "      <td>male</td>\n",
       "      <td>22.0</td>\n",
       "      <td>1</td>\n",
       "      <td>0</td>\n",
       "      <td>A/5 21171</td>\n",
       "      <td>7.2500</td>\n",
       "      <td>NaN</td>\n",
       "      <td>S</td>\n",
       "    </tr>\n",
       "    <tr>\n",
       "      <th>1</th>\n",
       "      <td>2</td>\n",
       "      <td>1</td>\n",
       "      <td>1</td>\n",
       "      <td>Cumings, Mrs. John Bradley (Florence Briggs Th...</td>\n",
       "      <td>female</td>\n",
       "      <td>38.0</td>\n",
       "      <td>1</td>\n",
       "      <td>0</td>\n",
       "      <td>PC 17599</td>\n",
       "      <td>71.2833</td>\n",
       "      <td>C85</td>\n",
       "      <td>C</td>\n",
       "    </tr>\n",
       "    <tr>\n",
       "      <th>2</th>\n",
       "      <td>3</td>\n",
       "      <td>1</td>\n",
       "      <td>3</td>\n",
       "      <td>Heikkinen, Miss. Laina</td>\n",
       "      <td>female</td>\n",
       "      <td>26.0</td>\n",
       "      <td>0</td>\n",
       "      <td>0</td>\n",
       "      <td>STON/O2. 3101282</td>\n",
       "      <td>7.9250</td>\n",
       "      <td>NaN</td>\n",
       "      <td>S</td>\n",
       "    </tr>\n",
       "    <tr>\n",
       "      <th>3</th>\n",
       "      <td>4</td>\n",
       "      <td>1</td>\n",
       "      <td>1</td>\n",
       "      <td>Futrelle, Mrs. Jacques Heath (Lily May Peel)</td>\n",
       "      <td>female</td>\n",
       "      <td>35.0</td>\n",
       "      <td>1</td>\n",
       "      <td>0</td>\n",
       "      <td>113803</td>\n",
       "      <td>53.1000</td>\n",
       "      <td>C123</td>\n",
       "      <td>S</td>\n",
       "    </tr>\n",
       "    <tr>\n",
       "      <th>4</th>\n",
       "      <td>5</td>\n",
       "      <td>0</td>\n",
       "      <td>3</td>\n",
       "      <td>Allen, Mr. William Henry</td>\n",
       "      <td>male</td>\n",
       "      <td>35.0</td>\n",
       "      <td>0</td>\n",
       "      <td>0</td>\n",
       "      <td>373450</td>\n",
       "      <td>8.0500</td>\n",
       "      <td>NaN</td>\n",
       "      <td>S</td>\n",
       "    </tr>\n",
       "  </tbody>\n",
       "</table>\n",
       "</div>"
      ],
      "text/plain": [
       "   PassengerId  Survived  Pclass  \\\n",
       "0            1         0       3   \n",
       "1            2         1       1   \n",
       "2            3         1       3   \n",
       "3            4         1       1   \n",
       "4            5         0       3   \n",
       "\n",
       "                                                Name     Sex   Age  SibSp  \\\n",
       "0                            Braund, Mr. Owen Harris    male  22.0      1   \n",
       "1  Cumings, Mrs. John Bradley (Florence Briggs Th...  female  38.0      1   \n",
       "2                             Heikkinen, Miss. Laina  female  26.0      0   \n",
       "3       Futrelle, Mrs. Jacques Heath (Lily May Peel)  female  35.0      1   \n",
       "4                           Allen, Mr. William Henry    male  35.0      0   \n",
       "\n",
       "   Parch            Ticket     Fare Cabin Embarked  \n",
       "0      0         A/5 21171   7.2500   NaN        S  \n",
       "1      0          PC 17599  71.2833   C85        C  \n",
       "2      0  STON/O2. 3101282   7.9250   NaN        S  \n",
       "3      0            113803  53.1000  C123        S  \n",
       "4      0            373450   8.0500   NaN        S  "
      ]
     },
     "execution_count": 3,
     "metadata": {},
     "output_type": "execute_result"
    }
   ],
   "source": [
    "data.head()"
   ]
  },
  {
   "cell_type": "code",
   "execution_count": 5,
   "metadata": {},
   "outputs": [
    {
     "data": {
      "text/plain": [
       "PassengerId      0\n",
       "Survived         0\n",
       "Pclass           0\n",
       "Name             0\n",
       "Sex              0\n",
       "Age            177\n",
       "SibSp            0\n",
       "Parch            0\n",
       "Ticket           0\n",
       "Fare             0\n",
       "Cabin          687\n",
       "Embarked         2\n",
       "dtype: int64"
      ]
     },
     "execution_count": 5,
     "metadata": {},
     "output_type": "execute_result"
    }
   ],
   "source": [
    "data.isnull().sum() #전체적으로 null값 있는 속성 확인"
   ]
  },
  {
   "cell_type": "markdown",
   "metadata": {},
   "source": [
    "Age, Cabin, Embarked에는 null값이 있으므로 수정 필요함"
   ]
  },
  {
   "cell_type": "markdown",
   "metadata": {},
   "source": [
    "### 생존자 수가 얼마나 되나? How many Survived?"
   ]
  },
  {
   "cell_type": "code",
   "execution_count": 18,
   "metadata": {},
   "outputs": [
    {
     "name": "stdout",
     "output_type": "stream",
     "text": [
      "0    549\n",
      "1    342\n",
      "Name: Survived, dtype: int64\n"
     ]
    },
    {
     "data": {
      "image/png": "[encoded data removed]",
      "text/plain": [
       "<Figure size 1296x576 with 2 Axes>"
      ]
     },
     "metadata": {
      "needs_background": "light"
     },
     "output_type": "display_data"
    }
   ],
   "source": [
    "f,ax=plt.subplots(1,2,figsize=(18,8)) #그래프 그릴 칸 2 개(1,2) 만들어놓기\n",
    "\n",
    "print(data['Survived'].value_counts())\n",
    "\n",
    "data['Survived'].value_counts().plot.pie(explode=[0,0.1],autopct='%1.1f%%',ax=ax[0],shadow=True) \n",
    "    #explode = 파이 조각이 돌출되는 크기\n",
    "    #autopct = 파이 조각의 전체 대비 백분율\n",
    "    #shadow = 그림자 효과\n",
    "    #ax[0] = (1,1), ax[1] = (1,2)\n",
    "ax[0].set_title('Survived') #차트 제목 붙이기\n",
    "ax[0].set_ylabel('') #Y축은 없음\n",
    "\n",
    "sns.countplot('Survived', data=data, ax=ax[1]) #빈도 막대그래프, barplot과 다르게 x축 설정할 필요가 없음\n",
    "ax[1].set_title('Survived')\n",
    "plt.show()"
   ]
  },
  {
   "cell_type": "markdown",
   "metadata": {},
   "source": [
    "이렇게 보니 생존자가 많지 않다는 게 명확해졌다. \n",
    "\n",
    "훈련 데이터셋의 승객 891명 중 350명만 살아남았고, 즉 38.4%의 승객만이 사고에서살아남았다. 이제 어떤 카테고리의 승객들이 생존했고 사망했는지, 더 깊은 인사이트를 얻기 위해 데이터를 파봐야 한다.\n",
    "\n",
    "데이터셋의 다양한 변수를 사용해서 각각의 생존율을 볼 것이다. 예를 들어서 성별이나, 탑승한 곳, 나이 등등에 따라서 생존율이 어떻게 달라지는지 확인할 수 있다.\n",
    "\n",
    "먼저, 데이터셋에 어떤 변수들이 있는지 이해해야 한다."
   ]
  },
  {
   "cell_type": "markdown",
   "metadata": {},
   "source": [
    "### 변수 타입 Types Of Features"
   ]
  },
  {
   "cell_type": "markdown",
   "metadata": {},
   "source": [
    "<b>범주형 변수 Categorical Feature:</b><br>\n",
    "범주형 변수는 각각의 카테고리를 나누는 두개 혹은 그 이상의 범주로 구성된다. 예를 들어, 성별은 두 개의 범주로 구성된 범주형 변수이다(남/여). 범주형 변수는 순차적으로 정렬되거나 순서를 가질 수 없다. 다른 이름으로 명명척도라고도 불린다.\n",
    "\n",
    "<b>데이터 셋의 범주형 변수: 성별(Sex), 탑승지(Embarked)</b><br>\n",
    "\n",
    "<b>서열 변수(서열 척도, Ordinal Features):</b><br>\n",
    "서열 변수는 범주형 변수와 비슷하지만 상대적인 크기나 순서를 가진다. 예를 들어, 키를 Tall / Mediul / Short으로 나누었을 때, 키는 서열 변수가 된다. 서열 변수는 상대적 크기/순서에 따라 정렬할 수 있다.\n",
    "\n",
    "<b>데이터 셋의 서열 변수: PClass</b><br>\n",
    "\n",
    "<b>연속형 변수(서열 척도, Ordinal Features):</b><br>\n",
    "특정한 두 점(최댓값, 최솟값) 사이 어느 값이라도 가질 수 있다면 연속형 변수라고 부를 수 있다.\n",
    "\n",
    "<b>데이터 셋의 연속형 변수: 나이(Age)</b><br>"
   ]
  },
  {
   "cell_type": "markdown",
   "metadata": {},
   "source": [
    "### Analysing The Features¶\n"
   ]
  },
  {
   "cell_type": "markdown",
   "metadata": {},
   "source": [
    "#### Sex--> Categorical Feature¶"
   ]
  },
  {
   "cell_type": "code",
   "execution_count": 24,
   "metadata": {},
   "outputs": [
    {
     "data": {
      "text/plain": [
       "Sex     Survived\n",
       "female  0            81\n",
       "        1           233\n",
       "male    0           468\n",
       "        1           109\n",
       "Name: Survived, dtype: int64"
      ]
     },
     "execution_count": 24,
     "metadata": {},
     "output_type": "execute_result"
    }
   ],
   "source": [
    "data.groupby(['Sex','Survived'])['Survived'].count() #성별, 생존여부를 기준으로 승객 수를 집계"
   ]
  },
  {
   "cell_type": "code",
   "execution_count": 35,
   "metadata": {},
   "outputs": [
    {
     "data": {
      "image/png": "[encoded data removed]",
      "text/plain": [
       "<Figure size 1296x576 with 2 Axes>"
      ]
     },
     "metadata": {
      "needs_background": "light"
     },
     "output_type": "display_data"
    }
   ],
   "source": [
    "f,ax=plt.subplots(1,2, figsize = (18,8)) #플롯을 그릴(1,2) 1행 2열 만들기\n",
    "\n",
    "#(1,1) plot\n",
    "data[['Sex','Survived']].groupby(['Sex']).mean().plot.bar(ax=ax[0]) #성별을 기준으로 생존한 비율 집계\n",
    "ax[0].set_title('Survived vs Sex') #plot의 title 넣기\n",
    "\n",
    "#(1,2)plot\n",
    "sns.countplot('Sex',hue='Survived',data=data, ax=ax[1]) #성별을 x축으로, 생존수를 색상으로 나누어 승객 수를 집계함\n",
    "ax[1].set_title('Sex:Survived vs Dead')\n",
    "plt.show()"
   ]
  },
  {
   "cell_type": "markdown",
   "metadata": {},
   "source": [
    "흥미로운 결과다. 배에 탑승한 승객 수로만 보면, 남성 승객 수가 여성 승객 수보다 훨씬 더 많음에도 불구하고, 생존한 여성 승객 수가 생존한 남성 승객 수의 2배 가까이 된다. 여성 승객의 생존율은 75%인데, 남성 승객의 승객의 생존율은 18-19%에 그친다.\n",
    "\n",
    "이 정보를 보니, 성별이 모델링에 굉장히 중요한 변수로 작용할 것으로 보인다. \n",
    "하지만 이 변수가 최선일까? 다른 변수들을 몇 가지 더 살펴보자!"
   ]
  },
  {
   "cell_type": "markdown",
   "metadata": {},
   "source": [
    "#### Sex--> Categorical Feature¶"
   ]
  },
  {
   "cell_type": "code",
   "execution_count": 41,
   "metadata": {},
   "outputs": [
    {
     "data": {
      "text/html": [
       "<style  type=\"text/css\" >\n",
       "    #T_36ea40f0_d136_11ea_9707_38f9d3575b17row0_col0 {\n",
       "            background-color:  #ffff66;\n",
       "            color:  #000000;\n",
       "        }    #T_36ea40f0_d136_11ea_9707_38f9d3575b17row0_col1 {\n",
       "            background-color:  #cee666;\n",
       "            color:  #000000;\n",
       "        }    #T_36ea40f0_d136_11ea_9707_38f9d3575b17row0_col2 {\n",
       "            background-color:  #f4fa66;\n",
       "            color:  #000000;\n",
       "        }    #T_36ea40f0_d136_11ea_9707_38f9d3575b17row1_col0 {\n",
       "            background-color:  #f6fa66;\n",
       "            color:  #000000;\n",
       "        }    #T_36ea40f0_d136_11ea_9707_38f9d3575b17row1_col1 {\n",
       "            background-color:  #ffff66;\n",
       "            color:  #000000;\n",
       "        }    #T_36ea40f0_d136_11ea_9707_38f9d3575b17row1_col2 {\n",
       "            background-color:  #ffff66;\n",
       "            color:  #000000;\n",
       "        }    #T_36ea40f0_d136_11ea_9707_38f9d3575b17row2_col0 {\n",
       "            background-color:  #60b066;\n",
       "            color:  #000000;\n",
       "        }    #T_36ea40f0_d136_11ea_9707_38f9d3575b17row2_col1 {\n",
       "            background-color:  #dfef66;\n",
       "            color:  #000000;\n",
       "        }    #T_36ea40f0_d136_11ea_9707_38f9d3575b17row2_col2 {\n",
       "            background-color:  #90c866;\n",
       "            color:  #000000;\n",
       "        }    #T_36ea40f0_d136_11ea_9707_38f9d3575b17row3_col0 {\n",
       "            background-color:  #008066;\n",
       "            color:  #f1f1f1;\n",
       "        }    #T_36ea40f0_d136_11ea_9707_38f9d3575b17row3_col1 {\n",
       "            background-color:  #008066;\n",
       "            color:  #f1f1f1;\n",
       "        }    #T_36ea40f0_d136_11ea_9707_38f9d3575b17row3_col2 {\n",
       "            background-color:  #008066;\n",
       "            color:  #f1f1f1;\n",
       "        }</style><table id=\"T_36ea40f0_d136_11ea_9707_38f9d3575b17\" ><thead>    <tr>        <th class=\"index_name level0\" >Survived</th>        <th class=\"col_heading level0 col0\" >0</th>        <th class=\"col_heading level0 col1\" >1</th>        <th class=\"col_heading level0 col2\" >All</th>    </tr>    <tr>        <th class=\"index_name level0\" >Pclass</th>        <th class=\"blank\" ></th>        <th class=\"blank\" ></th>        <th class=\"blank\" ></th>    </tr></thead><tbody>\n",
       "                <tr>\n",
       "                        <th id=\"T_36ea40f0_d136_11ea_9707_38f9d3575b17level0_row0\" class=\"row_heading level0 row0\" >1</th>\n",
       "                        <td id=\"T_36ea40f0_d136_11ea_9707_38f9d3575b17row0_col0\" class=\"data row0 col0\" >80</td>\n",
       "                        <td id=\"T_36ea40f0_d136_11ea_9707_38f9d3575b17row0_col1\" class=\"data row0 col1\" >136</td>\n",
       "                        <td id=\"T_36ea40f0_d136_11ea_9707_38f9d3575b17row0_col2\" class=\"data row0 col2\" >216</td>\n",
       "            </tr>\n",
       "            <tr>\n",
       "                        <th id=\"T_36ea40f0_d136_11ea_9707_38f9d3575b17level0_row1\" class=\"row_heading level0 row1\" >2</th>\n",
       "                        <td id=\"T_36ea40f0_d136_11ea_9707_38f9d3575b17row1_col0\" class=\"data row1 col0\" >97</td>\n",
       "                        <td id=\"T_36ea40f0_d136_11ea_9707_38f9d3575b17row1_col1\" class=\"data row1 col1\" >87</td>\n",
       "                        <td id=\"T_36ea40f0_d136_11ea_9707_38f9d3575b17row1_col2\" class=\"data row1 col2\" >184</td>\n",
       "            </tr>\n",
       "            <tr>\n",
       "                        <th id=\"T_36ea40f0_d136_11ea_9707_38f9d3575b17level0_row2\" class=\"row_heading level0 row2\" >3</th>\n",
       "                        <td id=\"T_36ea40f0_d136_11ea_9707_38f9d3575b17row2_col0\" class=\"data row2 col0\" >372</td>\n",
       "                        <td id=\"T_36ea40f0_d136_11ea_9707_38f9d3575b17row2_col1\" class=\"data row2 col1\" >119</td>\n",
       "                        <td id=\"T_36ea40f0_d136_11ea_9707_38f9d3575b17row2_col2\" class=\"data row2 col2\" >491</td>\n",
       "            </tr>\n",
       "            <tr>\n",
       "                        <th id=\"T_36ea40f0_d136_11ea_9707_38f9d3575b17level0_row3\" class=\"row_heading level0 row3\" >All</th>\n",
       "                        <td id=\"T_36ea40f0_d136_11ea_9707_38f9d3575b17row3_col0\" class=\"data row3 col0\" >549</td>\n",
       "                        <td id=\"T_36ea40f0_d136_11ea_9707_38f9d3575b17row3_col1\" class=\"data row3 col1\" >342</td>\n",
       "                        <td id=\"T_36ea40f0_d136_11ea_9707_38f9d3575b17row3_col2\" class=\"data row3 col2\" >891</td>\n",
       "            </tr>\n",
       "    </tbody></table>"
      ],
      "text/plain": [
       "<pandas.io.formats.style.Styler at 0x7f9c046068d0>"
      ]
     },
     "execution_count": 41,
     "metadata": {},
     "output_type": "execute_result"
    }
   ],
   "source": [
    "pd.crosstab(data.Pclass,data.Survived,margins = True).style.background_gradient(cmap='summer_r') #margins: 총합계\n",
    "#https://pandas.pydata.org/pandas-docs/version/0.17/generated/pandas.core.style.Styler.background_gradient.html\n",
    "#https://matplotlib.org/3.1.1/gallery/color/colormap_reference.html"
   ]
  },
  {
   "cell_type": "code",
   "execution_count": 54,
   "metadata": {},
   "outputs": [
    {
     "data": {
      "image/png": "[encoded data removed]",
      "text/plain": [
       "<Figure size 1296x576 with 2 Axes>"
      ]
     },
     "metadata": {
      "needs_background": "light"
     },
     "output_type": "display_data"
    }
   ],
   "source": [
    "f,ax=plt.subplots(1,2,figsize=(18,8))\n",
    "data['Pclass'].value_counts().plot.bar(color=['#CD7F32','#FFDF00','#D3D3D3'],ax=ax[0]) #1등칸, 2등칸, 3등칸의 승객 수 비교\n",
    "ax[0].set_title('Number Of Passengers By Pclass')\n",
    "ax[0].set_ylabel('Count') #Y축 라벨\n",
    "\n",
    "sns.countplot('Pclass', hue='Survived',data=data, ax=ax[1]) #탑승칸 클래스 별 생존/사망자 수\n",
    "ax[1].set_title('Pclass: Survived vs Dead')\n",
    "plt.show()"
   ]
  },
  {
   "cell_type": "markdown",
   "metadata": {},
   "source": [
    "돈으로 모든 것을 살 수는 없다고 하지만, 1등칸의 승객들의 구조 우선순위가 높았던걸로 보인다. 3등칸의 승객 수가 훨씬 많지만, 생존자 비율은 25%가량으로 굉장히 낮다. \n",
    "\n",
    "1등칸 승객의 생존율은 63%, 2등칸 승객의 생존율은 48%였다. 돈과 지위가 중요한 물질주의 사회의 단면이다..\n",
    "\n",
    "좀 더 자세히, 흥미로운 결과들을 확인해보기 위해 성별과 탑승칸을 함께 고려했을 때의 생존율을 확인해보자."
   ]
  },
  {
   "cell_type": "code",
   "execution_count": 66,
   "metadata": {},
   "outputs": [
    {
     "data": {
      "text/html": [
       "<style  type=\"text/css\" >\n",
       "    #T_f02a2582_d157_11ea_9707_38f9d3575b17row0_col0 {\n",
       "            background-color:  #008066;\n",
       "            color:  #f1f1f1;\n",
       "        }    #T_f02a2582_d157_11ea_9707_38f9d3575b17row0_col1 {\n",
       "            background-color:  #008066;\n",
       "            color:  #f1f1f1;\n",
       "        }    #T_f02a2582_d157_11ea_9707_38f9d3575b17row0_col2 {\n",
       "            background-color:  #0e8666;\n",
       "            color:  #000000;\n",
       "        }    #T_f02a2582_d157_11ea_9707_38f9d3575b17row0_col3 {\n",
       "            background-color:  #008066;\n",
       "            color:  #f1f1f1;\n",
       "        }    #T_f02a2582_d157_11ea_9707_38f9d3575b17row1_col0 {\n",
       "            background-color:  #69b466;\n",
       "            color:  #000000;\n",
       "        }    #T_f02a2582_d157_11ea_9707_38f9d3575b17row1_col1 {\n",
       "            background-color:  #5cae66;\n",
       "            color:  #000000;\n",
       "        }    #T_f02a2582_d157_11ea_9707_38f9d3575b17row1_col2 {\n",
       "            background-color:  #0e8666;\n",
       "            color:  #000000;\n",
       "        }    #T_f02a2582_d157_11ea_9707_38f9d3575b17row1_col3 {\n",
       "            background-color:  #309866;\n",
       "            color:  #000000;\n",
       "        }    #T_f02a2582_d157_11ea_9707_38f9d3575b17row2_col0 {\n",
       "            background-color:  #58ac66;\n",
       "            color:  #000000;\n",
       "        }    #T_f02a2582_d157_11ea_9707_38f9d3575b17row2_col1 {\n",
       "            background-color:  #7abc66;\n",
       "            color:  #000000;\n",
       "        }    #T_f02a2582_d157_11ea_9707_38f9d3575b17row2_col2 {\n",
       "            background-color:  #91c866;\n",
       "            color:  #000000;\n",
       "        }    #T_f02a2582_d157_11ea_9707_38f9d3575b17row2_col3 {\n",
       "            background-color:  #7abc66;\n",
       "            color:  #000000;\n",
       "        }    #T_f02a2582_d157_11ea_9707_38f9d3575b17row3_col0 {\n",
       "            background-color:  #329866;\n",
       "            color:  #000000;\n",
       "        }    #T_f02a2582_d157_11ea_9707_38f9d3575b17row3_col1 {\n",
       "            background-color:  #0f8766;\n",
       "            color:  #000000;\n",
       "        }    #T_f02a2582_d157_11ea_9707_38f9d3575b17row3_col2 {\n",
       "            background-color:  #008066;\n",
       "            color:  #f1f1f1;\n",
       "        }    #T_f02a2582_d157_11ea_9707_38f9d3575b17row3_col3 {\n",
       "            background-color:  #088466;\n",
       "            color:  #f1f1f1;\n",
       "        }    #T_f02a2582_d157_11ea_9707_38f9d3575b17row4_col0 {\n",
       "            background-color:  #ffff66;\n",
       "            color:  #000000;\n",
       "        }    #T_f02a2582_d157_11ea_9707_38f9d3575b17row4_col1 {\n",
       "            background-color:  #ffff66;\n",
       "            color:  #000000;\n",
       "        }    #T_f02a2582_d157_11ea_9707_38f9d3575b17row4_col2 {\n",
       "            background-color:  #ffff66;\n",
       "            color:  #000000;\n",
       "        }    #T_f02a2582_d157_11ea_9707_38f9d3575b17row4_col3 {\n",
       "            background-color:  #ffff66;\n",
       "            color:  #000000;\n",
       "        }</style><table id=\"T_f02a2582_d157_11ea_9707_38f9d3575b17\" ><thead>    <tr>        <th class=\"blank\" ></th>        <th class=\"index_name level0\" >Pclass</th>        <th class=\"col_heading level0 col0\" >1</th>        <th class=\"col_heading level0 col1\" >2</th>        <th class=\"col_heading level0 col2\" >3</th>        <th class=\"col_heading level0 col3\" >All</th>    </tr>    <tr>        <th class=\"index_name level0\" >Sex</th>        <th class=\"index_name level1\" >Survived</th>        <th class=\"blank\" ></th>        <th class=\"blank\" ></th>        <th class=\"blank\" ></th>        <th class=\"blank\" ></th>    </tr></thead><tbody>\n",
       "                <tr>\n",
       "                        <th id=\"T_f02a2582_d157_11ea_9707_38f9d3575b17level0_row0\" class=\"row_heading level0 row0\" rowspan=2>female</th>\n",
       "                        <th id=\"T_f02a2582_d157_11ea_9707_38f9d3575b17level1_row0\" class=\"row_heading level1 row0\" >0</th>\n",
       "                        <td id=\"T_f02a2582_d157_11ea_9707_38f9d3575b17row0_col0\" class=\"data row0 col0\" >3</td>\n",
       "                        <td id=\"T_f02a2582_d157_11ea_9707_38f9d3575b17row0_col1\" class=\"data row0 col1\" >6</td>\n",
       "                        <td id=\"T_f02a2582_d157_11ea_9707_38f9d3575b17row0_col2\" class=\"data row0 col2\" >72</td>\n",
       "                        <td id=\"T_f02a2582_d157_11ea_9707_38f9d3575b17row0_col3\" class=\"data row0 col3\" >81</td>\n",
       "            </tr>\n",
       "            <tr>\n",
       "                                <th id=\"T_f02a2582_d157_11ea_9707_38f9d3575b17level1_row1\" class=\"row_heading level1 row1\" >1</th>\n",
       "                        <td id=\"T_f02a2582_d157_11ea_9707_38f9d3575b17row1_col0\" class=\"data row1 col0\" >91</td>\n",
       "                        <td id=\"T_f02a2582_d157_11ea_9707_38f9d3575b17row1_col1\" class=\"data row1 col1\" >70</td>\n",
       "                        <td id=\"T_f02a2582_d157_11ea_9707_38f9d3575b17row1_col2\" class=\"data row1 col2\" >72</td>\n",
       "                        <td id=\"T_f02a2582_d157_11ea_9707_38f9d3575b17row1_col3\" class=\"data row1 col3\" >233</td>\n",
       "            </tr>\n",
       "            <tr>\n",
       "                        <th id=\"T_f02a2582_d157_11ea_9707_38f9d3575b17level0_row2\" class=\"row_heading level0 row2\" rowspan=2>male</th>\n",
       "                        <th id=\"T_f02a2582_d157_11ea_9707_38f9d3575b17level1_row2\" class=\"row_heading level1 row2\" >0</th>\n",
       "                        <td id=\"T_f02a2582_d157_11ea_9707_38f9d3575b17row2_col0\" class=\"data row2 col0\" >77</td>\n",
       "                        <td id=\"T_f02a2582_d157_11ea_9707_38f9d3575b17row2_col1\" class=\"data row2 col1\" >91</td>\n",
       "                        <td id=\"T_f02a2582_d157_11ea_9707_38f9d3575b17row2_col2\" class=\"data row2 col2\" >300</td>\n",
       "                        <td id=\"T_f02a2582_d157_11ea_9707_38f9d3575b17row2_col3\" class=\"data row2 col3\" >468</td>\n",
       "            </tr>\n",
       "            <tr>\n",
       "                                <th id=\"T_f02a2582_d157_11ea_9707_38f9d3575b17level1_row3\" class=\"row_heading level1 row3\" >1</th>\n",
       "                        <td id=\"T_f02a2582_d157_11ea_9707_38f9d3575b17row3_col0\" class=\"data row3 col0\" >45</td>\n",
       "                        <td id=\"T_f02a2582_d157_11ea_9707_38f9d3575b17row3_col1\" class=\"data row3 col1\" >17</td>\n",
       "                        <td id=\"T_f02a2582_d157_11ea_9707_38f9d3575b17row3_col2\" class=\"data row3 col2\" >47</td>\n",
       "                        <td id=\"T_f02a2582_d157_11ea_9707_38f9d3575b17row3_col3\" class=\"data row3 col3\" >109</td>\n",
       "            </tr>\n",
       "            <tr>\n",
       "                        <th id=\"T_f02a2582_d157_11ea_9707_38f9d3575b17level0_row4\" class=\"row_heading level0 row4\" >All</th>\n",
       "                        <th id=\"T_f02a2582_d157_11ea_9707_38f9d3575b17level1_row4\" class=\"row_heading level1 row4\" ></th>\n",
       "                        <td id=\"T_f02a2582_d157_11ea_9707_38f9d3575b17row4_col0\" class=\"data row4 col0\" >216</td>\n",
       "                        <td id=\"T_f02a2582_d157_11ea_9707_38f9d3575b17row4_col1\" class=\"data row4 col1\" >184</td>\n",
       "                        <td id=\"T_f02a2582_d157_11ea_9707_38f9d3575b17row4_col2\" class=\"data row4 col2\" >491</td>\n",
       "                        <td id=\"T_f02a2582_d157_11ea_9707_38f9d3575b17row4_col3\" class=\"data row4 col3\" >891</td>\n",
       "            </tr>\n",
       "    </tbody></table>"
      ],
      "text/plain": [
       "<pandas.io.formats.style.Styler at 0x7f9c01ec5710>"
      ]
     },
     "execution_count": 66,
     "metadata": {},
     "output_type": "execute_result"
    }
   ],
   "source": [
    "pd.crosstab([data.Sex, data.Survived],data.Pclass, margins=True).style.background_gradient(cmap='summer')"
   ]
  },
  {
   "cell_type": "code",
   "execution_count": 59,
   "metadata": {},
   "outputs": [
    {
     "data": {
      "image/png": "[encoded data removed]",
      "text/plain": [
       "<Figure size 430.5x360 with 1 Axes>"
      ]
     },
     "metadata": {
      "needs_background": "light"
     },
     "output_type": "display_data"
    }
   ],
   "source": [
    "sns.factorplot('Pclass', 'Survived', hue = 'Sex', data=data)  #성별/class별로 생존자 비중\n",
    "plt.show()\n",
    "\n",
    "#https://www.kite.com/python/docs/seaborn.factorplot"
   ]
  },
  {
   "cell_type": "markdown",
   "metadata": {},
   "source": [
    "범주형 변수의 값을 쉽게 분류해서 보기 위해서 FactorPlot을 사용했습니다.\n",
    "\n",
    "CrossTab과 FactorPlot을 보면, 1등칸의 여성 생존율이 95-96%로 94명 중 3명만이 사망했음을 알 수 있습니다.\n",
    "\n",
    "Pclass와 무관하게, 여성이 구조에서 우선순위에 있었음이 명확하다ㅣ. 1등칸이어도 남성 승객은 생존율이 매우 낮았다.\n",
    "\n",
    "일단, Pclass도 중요한 변수로 보이는데, 다른 변수들도 더 살펴보자!"
   ]
  },
  {
   "cell_type": "markdown",
   "metadata": {},
   "source": [
    "### Age--> Continous Feature"
   ]
  },
  {
   "cell_type": "code",
   "execution_count": 67,
   "metadata": {},
   "outputs": [
    {
     "name": "stdout",
     "output_type": "stream",
     "text": [
      "Oldest Passenger was of: 80.0 Years\n"
     ]
    }
   ],
   "source": [
    "print('Oldest Passenger was of:', data['Age'].max(), 'Years')\n",
    "print('Youngest Passenger was of:', data['Age'].min(), 'Years')\n",
    "print('Average Age on the ship:', dat)"
   ]
  },
  {
   "cell_type": "code",
   "execution_count": null,
   "metadata": {},
   "outputs": [],
   "source": []
  }
 ],
 "metadata": {
  "hide_input": false,
  "kernelspec": {
   "display_name": "Python 3",
   "language": "python",
   "name": "python3"
  },
  "language_info": {
   "codemirror_mode": {
    "name": "ipython",
    "version": 3
   },
   "file_extension": ".py",
   "mimetype": "text/x-python",
   "name": "python",
   "nbconvert_exporter": "python",
   "pygments_lexer": "ipython3",
   "version": "3.7.6"
  },
  "toc": {
   "base_numbering": 1,
   "nav_menu": {},
   "number_sections": true,
   "sideBar": true,
   "skip_h1_title": false,
   "title_cell": "Table of Contents",
   "title_sidebar": "Contents",
   "toc_cell": false,
   "toc_position": {},
   "toc_section_display": true,
   "toc_window_display": false
  },
  "varInspector": {
   "cols": {
    "lenName": 16,
    "lenType": 16,
    "lenVar": 40
   },
   "kernels_config": {
    "python": {
     "delete_cmd_postfix": "",
     "delete_cmd_prefix": "del ",
     "library": "var_list.py",
     "varRefreshCmd": "print(var_dic_list())"
    },
    "r": {
     "delete_cmd_postfix": ") ",
     "delete_cmd_prefix": "rm(",
     "library": "var_list.r",
     "varRefreshCmd": "cat(var_dic_list()) "
    }
   },
   "types_to_exclude": [
    "module",
    "function",
    "builtin_function_or_method",
    "instance",
    "_Feature"
   ],
   "window_display": false
  }
 },
 "nbformat": 4,
 "nbformat_minor": 4
}
